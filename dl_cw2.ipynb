{
  "nbformat": 4,
  "nbformat_minor": 0,
  "metadata": {
    "accelerator": "GPU",
    "colab": {
      "name": "dl_cw2.ipynb",
      "provenance": [],
      "collapsed_sections": [],
      "toc_visible": true,
      "include_colab_link": true
    },
    "kernelspec": {
      "name": "python3",
      "display_name": "Python 3"
    },
    "language_info": {
      "codemirror_mode": {
        "name": "ipython",
        "version": 3
      },
      "file_extension": ".py",
      "mimetype": "text/x-python",
      "name": "python",
      "nbconvert_exporter": "python",
      "pygments_lexer": "ipython3",
      "version": "3.5.6"
    },
    "widgets": {
      "application/vnd.jupyter.widget-state+json": {
        "41d74c32e0c14a5a90d690637f924191": {
          "model_module": "@jupyter-widgets/controls",
          "model_name": "HBoxModel",
          "state": {
            "_view_name": "HBoxView",
            "_dom_classes": [],
            "_model_name": "HBoxModel",
            "_view_module": "@jupyter-widgets/controls",
            "_model_module_version": "1.5.0",
            "_view_count": null,
            "_view_module_version": "1.5.0",
            "box_style": "",
            "layout": "IPY_MODEL_046230b05df24fda90d4399bde4c6a53",
            "_model_module": "@jupyter-widgets/controls",
            "children": [
              "IPY_MODEL_ed9e08d916234492aec26bec29bb0160",
              "IPY_MODEL_48103b9728114e578b64268f046a9c3a"
            ]
          }
        },
        "046230b05df24fda90d4399bde4c6a53": {
          "model_module": "@jupyter-widgets/base",
          "model_name": "LayoutModel",
          "state": {
            "_view_name": "LayoutView",
            "grid_template_rows": null,
            "right": null,
            "justify_content": null,
            "_view_module": "@jupyter-widgets/base",
            "overflow": null,
            "_model_module_version": "1.2.0",
            "_view_count": null,
            "flex_flow": null,
            "width": null,
            "min_width": null,
            "border": null,
            "align_items": null,
            "bottom": null,
            "_model_module": "@jupyter-widgets/base",
            "top": null,
            "grid_column": null,
            "overflow_y": null,
            "overflow_x": null,
            "grid_auto_flow": null,
            "grid_area": null,
            "grid_template_columns": null,
            "flex": null,
            "_model_name": "LayoutModel",
            "justify_items": null,
            "grid_row": null,
            "max_height": null,
            "align_content": null,
            "visibility": null,
            "align_self": null,
            "height": null,
            "min_height": null,
            "padding": null,
            "grid_auto_rows": null,
            "grid_gap": null,
            "max_width": null,
            "order": null,
            "_view_module_version": "1.2.0",
            "grid_template_areas": null,
            "object_position": null,
            "object_fit": null,
            "grid_auto_columns": null,
            "margin": null,
            "display": null,
            "left": null
          }
        },
        "ed9e08d916234492aec26bec29bb0160": {
          "model_module": "@jupyter-widgets/controls",
          "model_name": "FloatProgressModel",
          "state": {
            "_view_name": "ProgressView",
            "style": "IPY_MODEL_b08be2dd882044ee85b3f1ad599ae15c",
            "_dom_classes": [],
            "description": "",
            "_model_name": "FloatProgressModel",
            "bar_style": "info",
            "max": 1,
            "_view_module": "@jupyter-widgets/controls",
            "_model_module_version": "1.5.0",
            "value": 1,
            "_view_count": null,
            "_view_module_version": "1.5.0",
            "orientation": "horizontal",
            "min": 0,
            "description_tooltip": null,
            "_model_module": "@jupyter-widgets/controls",
            "layout": "IPY_MODEL_8beafa5af6664bdfa0ed613f521dde21"
          }
        },
        "48103b9728114e578b64268f046a9c3a": {
          "model_module": "@jupyter-widgets/controls",
          "model_name": "HTMLModel",
          "state": {
            "_view_name": "HTMLView",
            "style": "IPY_MODEL_92cce07121a44cd8a218cf21409ae28c",
            "_dom_classes": [],
            "description": "",
            "_model_name": "HTMLModel",
            "placeholder": "​",
            "_view_module": "@jupyter-widgets/controls",
            "_model_module_version": "1.5.0",
            "value": " 9920512/? [00:19&lt;00:00, 806998.94it/s]",
            "_view_count": null,
            "_view_module_version": "1.5.0",
            "description_tooltip": null,
            "_model_module": "@jupyter-widgets/controls",
            "layout": "IPY_MODEL_5c888a32524d48038a4219400933c88d"
          }
        },
        "b08be2dd882044ee85b3f1ad599ae15c": {
          "model_module": "@jupyter-widgets/controls",
          "model_name": "ProgressStyleModel",
          "state": {
            "_view_name": "StyleView",
            "_model_name": "ProgressStyleModel",
            "description_width": "initial",
            "_view_module": "@jupyter-widgets/base",
            "_model_module_version": "1.5.0",
            "_view_count": null,
            "_view_module_version": "1.2.0",
            "bar_color": null,
            "_model_module": "@jupyter-widgets/controls"
          }
        },
        "8beafa5af6664bdfa0ed613f521dde21": {
          "model_module": "@jupyter-widgets/base",
          "model_name": "LayoutModel",
          "state": {
            "_view_name": "LayoutView",
            "grid_template_rows": null,
            "right": null,
            "justify_content": null,
            "_view_module": "@jupyter-widgets/base",
            "overflow": null,
            "_model_module_version": "1.2.0",
            "_view_count": null,
            "flex_flow": null,
            "width": null,
            "min_width": null,
            "border": null,
            "align_items": null,
            "bottom": null,
            "_model_module": "@jupyter-widgets/base",
            "top": null,
            "grid_column": null,
            "overflow_y": null,
            "overflow_x": null,
            "grid_auto_flow": null,
            "grid_area": null,
            "grid_template_columns": null,
            "flex": null,
            "_model_name": "LayoutModel",
            "justify_items": null,
            "grid_row": null,
            "max_height": null,
            "align_content": null,
            "visibility": null,
            "align_self": null,
            "height": null,
            "min_height": null,
            "padding": null,
            "grid_auto_rows": null,
            "grid_gap": null,
            "max_width": null,
            "order": null,
            "_view_module_version": "1.2.0",
            "grid_template_areas": null,
            "object_position": null,
            "object_fit": null,
            "grid_auto_columns": null,
            "margin": null,
            "display": null,
            "left": null
          }
        },
        "92cce07121a44cd8a218cf21409ae28c": {
          "model_module": "@jupyter-widgets/controls",
          "model_name": "DescriptionStyleModel",
          "state": {
            "_view_name": "StyleView",
            "_model_name": "DescriptionStyleModel",
            "description_width": "",
            "_view_module": "@jupyter-widgets/base",
            "_model_module_version": "1.5.0",
            "_view_count": null,
            "_view_module_version": "1.2.0",
            "_model_module": "@jupyter-widgets/controls"
          }
        },
        "5c888a32524d48038a4219400933c88d": {
          "model_module": "@jupyter-widgets/base",
          "model_name": "LayoutModel",
          "state": {
            "_view_name": "LayoutView",
            "grid_template_rows": null,
            "right": null,
            "justify_content": null,
            "_view_module": "@jupyter-widgets/base",
            "overflow": null,
            "_model_module_version": "1.2.0",
            "_view_count": null,
            "flex_flow": null,
            "width": null,
            "min_width": null,
            "border": null,
            "align_items": null,
            "bottom": null,
            "_model_module": "@jupyter-widgets/base",
            "top": null,
            "grid_column": null,
            "overflow_y": null,
            "overflow_x": null,
            "grid_auto_flow": null,
            "grid_area": null,
            "grid_template_columns": null,
            "flex": null,
            "_model_name": "LayoutModel",
            "justify_items": null,
            "grid_row": null,
            "max_height": null,
            "align_content": null,
            "visibility": null,
            "align_self": null,
            "height": null,
            "min_height": null,
            "padding": null,
            "grid_auto_rows": null,
            "grid_gap": null,
            "max_width": null,
            "order": null,
            "_view_module_version": "1.2.0",
            "grid_template_areas": null,
            "object_position": null,
            "object_fit": null,
            "grid_auto_columns": null,
            "margin": null,
            "display": null,
            "left": null
          }
        },
        "8325b3ad8ca04e4d8b289faec3e8d993": {
          "model_module": "@jupyter-widgets/controls",
          "model_name": "HBoxModel",
          "state": {
            "_view_name": "HBoxView",
            "_dom_classes": [],
            "_model_name": "HBoxModel",
            "_view_module": "@jupyter-widgets/controls",
            "_model_module_version": "1.5.0",
            "_view_count": null,
            "_view_module_version": "1.5.0",
            "box_style": "",
            "layout": "IPY_MODEL_5e6ca8a135754844bf1ce27e16d06f1d",
            "_model_module": "@jupyter-widgets/controls",
            "children": [
              "IPY_MODEL_748303e23aa448cd8172d460b8bdc676",
              "IPY_MODEL_5a954afe0a9c470995716f6d68ee5da6"
            ]
          }
        },
        "5e6ca8a135754844bf1ce27e16d06f1d": {
          "model_module": "@jupyter-widgets/base",
          "model_name": "LayoutModel",
          "state": {
            "_view_name": "LayoutView",
            "grid_template_rows": null,
            "right": null,
            "justify_content": null,
            "_view_module": "@jupyter-widgets/base",
            "overflow": null,
            "_model_module_version": "1.2.0",
            "_view_count": null,
            "flex_flow": null,
            "width": null,
            "min_width": null,
            "border": null,
            "align_items": null,
            "bottom": null,
            "_model_module": "@jupyter-widgets/base",
            "top": null,
            "grid_column": null,
            "overflow_y": null,
            "overflow_x": null,
            "grid_auto_flow": null,
            "grid_area": null,
            "grid_template_columns": null,
            "flex": null,
            "_model_name": "LayoutModel",
            "justify_items": null,
            "grid_row": null,
            "max_height": null,
            "align_content": null,
            "visibility": null,
            "align_self": null,
            "height": null,
            "min_height": null,
            "padding": null,
            "grid_auto_rows": null,
            "grid_gap": null,
            "max_width": null,
            "order": null,
            "_view_module_version": "1.2.0",
            "grid_template_areas": null,
            "object_position": null,
            "object_fit": null,
            "grid_auto_columns": null,
            "margin": null,
            "display": null,
            "left": null
          }
        },
        "748303e23aa448cd8172d460b8bdc676": {
          "model_module": "@jupyter-widgets/controls",
          "model_name": "FloatProgressModel",
          "state": {
            "_view_name": "ProgressView",
            "style": "IPY_MODEL_ba703b73561d43a49a3cf789a859c7bd",
            "_dom_classes": [],
            "description": "",
            "_model_name": "FloatProgressModel",
            "bar_style": "success",
            "max": 1,
            "_view_module": "@jupyter-widgets/controls",
            "_model_module_version": "1.5.0",
            "value": 1,
            "_view_count": null,
            "_view_module_version": "1.5.0",
            "orientation": "horizontal",
            "min": 0,
            "description_tooltip": null,
            "_model_module": "@jupyter-widgets/controls",
            "layout": "IPY_MODEL_027bb5f4426043fdabdad4d145903349"
          }
        },
        "5a954afe0a9c470995716f6d68ee5da6": {
          "model_module": "@jupyter-widgets/controls",
          "model_name": "HTMLModel",
          "state": {
            "_view_name": "HTMLView",
            "style": "IPY_MODEL_43c0eddea1844ee6b151f076dd956ef8",
            "_dom_classes": [],
            "description": "",
            "_model_name": "HTMLModel",
            "placeholder": "​",
            "_view_module": "@jupyter-widgets/controls",
            "_model_module_version": "1.5.0",
            "value": " 32768/? [00:01&lt;00:00, 23994.09it/s]",
            "_view_count": null,
            "_view_module_version": "1.5.0",
            "description_tooltip": null,
            "_model_module": "@jupyter-widgets/controls",
            "layout": "IPY_MODEL_23c1f9f13c3244af9a42a5b3fe8d9576"
          }
        },
        "ba703b73561d43a49a3cf789a859c7bd": {
          "model_module": "@jupyter-widgets/controls",
          "model_name": "ProgressStyleModel",
          "state": {
            "_view_name": "StyleView",
            "_model_name": "ProgressStyleModel",
            "description_width": "initial",
            "_view_module": "@jupyter-widgets/base",
            "_model_module_version": "1.5.0",
            "_view_count": null,
            "_view_module_version": "1.2.0",
            "bar_color": null,
            "_model_module": "@jupyter-widgets/controls"
          }
        },
        "027bb5f4426043fdabdad4d145903349": {
          "model_module": "@jupyter-widgets/base",
          "model_name": "LayoutModel",
          "state": {
            "_view_name": "LayoutView",
            "grid_template_rows": null,
            "right": null,
            "justify_content": null,
            "_view_module": "@jupyter-widgets/base",
            "overflow": null,
            "_model_module_version": "1.2.0",
            "_view_count": null,
            "flex_flow": null,
            "width": null,
            "min_width": null,
            "border": null,
            "align_items": null,
            "bottom": null,
            "_model_module": "@jupyter-widgets/base",
            "top": null,
            "grid_column": null,
            "overflow_y": null,
            "overflow_x": null,
            "grid_auto_flow": null,
            "grid_area": null,
            "grid_template_columns": null,
            "flex": null,
            "_model_name": "LayoutModel",
            "justify_items": null,
            "grid_row": null,
            "max_height": null,
            "align_content": null,
            "visibility": null,
            "align_self": null,
            "height": null,
            "min_height": null,
            "padding": null,
            "grid_auto_rows": null,
            "grid_gap": null,
            "max_width": null,
            "order": null,
            "_view_module_version": "1.2.0",
            "grid_template_areas": null,
            "object_position": null,
            "object_fit": null,
            "grid_auto_columns": null,
            "margin": null,
            "display": null,
            "left": null
          }
        },
        "43c0eddea1844ee6b151f076dd956ef8": {
          "model_module": "@jupyter-widgets/controls",
          "model_name": "DescriptionStyleModel",
          "state": {
            "_view_name": "StyleView",
            "_model_name": "DescriptionStyleModel",
            "description_width": "",
            "_view_module": "@jupyter-widgets/base",
            "_model_module_version": "1.5.0",
            "_view_count": null,
            "_view_module_version": "1.2.0",
            "_model_module": "@jupyter-widgets/controls"
          }
        },
        "23c1f9f13c3244af9a42a5b3fe8d9576": {
          "model_module": "@jupyter-widgets/base",
          "model_name": "LayoutModel",
          "state": {
            "_view_name": "LayoutView",
            "grid_template_rows": null,
            "right": null,
            "justify_content": null,
            "_view_module": "@jupyter-widgets/base",
            "overflow": null,
            "_model_module_version": "1.2.0",
            "_view_count": null,
            "flex_flow": null,
            "width": null,
            "min_width": null,
            "border": null,
            "align_items": null,
            "bottom": null,
            "_model_module": "@jupyter-widgets/base",
            "top": null,
            "grid_column": null,
            "overflow_y": null,
            "overflow_x": null,
            "grid_auto_flow": null,
            "grid_area": null,
            "grid_template_columns": null,
            "flex": null,
            "_model_name": "LayoutModel",
            "justify_items": null,
            "grid_row": null,
            "max_height": null,
            "align_content": null,
            "visibility": null,
            "align_self": null,
            "height": null,
            "min_height": null,
            "padding": null,
            "grid_auto_rows": null,
            "grid_gap": null,
            "max_width": null,
            "order": null,
            "_view_module_version": "1.2.0",
            "grid_template_areas": null,
            "object_position": null,
            "object_fit": null,
            "grid_auto_columns": null,
            "margin": null,
            "display": null,
            "left": null
          }
        },
        "b7f76d108f6544c5873c3e7a9788a171": {
          "model_module": "@jupyter-widgets/controls",
          "model_name": "HBoxModel",
          "state": {
            "_view_name": "HBoxView",
            "_dom_classes": [],
            "_model_name": "HBoxModel",
            "_view_module": "@jupyter-widgets/controls",
            "_model_module_version": "1.5.0",
            "_view_count": null,
            "_view_module_version": "1.5.0",
            "box_style": "",
            "layout": "IPY_MODEL_2aa648891ff34876bd77cc71cd09c502",
            "_model_module": "@jupyter-widgets/controls",
            "children": [
              "IPY_MODEL_63ecd0e61e144b19ac5919c86b90a4d0",
              "IPY_MODEL_4efe87b3ee544a8c9e7fe5f52f958ac9"
            ]
          }
        },
        "2aa648891ff34876bd77cc71cd09c502": {
          "model_module": "@jupyter-widgets/base",
          "model_name": "LayoutModel",
          "state": {
            "_view_name": "LayoutView",
            "grid_template_rows": null,
            "right": null,
            "justify_content": null,
            "_view_module": "@jupyter-widgets/base",
            "overflow": null,
            "_model_module_version": "1.2.0",
            "_view_count": null,
            "flex_flow": null,
            "width": null,
            "min_width": null,
            "border": null,
            "align_items": null,
            "bottom": null,
            "_model_module": "@jupyter-widgets/base",
            "top": null,
            "grid_column": null,
            "overflow_y": null,
            "overflow_x": null,
            "grid_auto_flow": null,
            "grid_area": null,
            "grid_template_columns": null,
            "flex": null,
            "_model_name": "LayoutModel",
            "justify_items": null,
            "grid_row": null,
            "max_height": null,
            "align_content": null,
            "visibility": null,
            "align_self": null,
            "height": null,
            "min_height": null,
            "padding": null,
            "grid_auto_rows": null,
            "grid_gap": null,
            "max_width": null,
            "order": null,
            "_view_module_version": "1.2.0",
            "grid_template_areas": null,
            "object_position": null,
            "object_fit": null,
            "grid_auto_columns": null,
            "margin": null,
            "display": null,
            "left": null
          }
        },
        "63ecd0e61e144b19ac5919c86b90a4d0": {
          "model_module": "@jupyter-widgets/controls",
          "model_name": "FloatProgressModel",
          "state": {
            "_view_name": "ProgressView",
            "style": "IPY_MODEL_41ae595ae9954b98af65359af57c1634",
            "_dom_classes": [],
            "description": "",
            "_model_name": "FloatProgressModel",
            "bar_style": "success",
            "max": 1,
            "_view_module": "@jupyter-widgets/controls",
            "_model_module_version": "1.5.0",
            "value": 1,
            "_view_count": null,
            "_view_module_version": "1.5.0",
            "orientation": "horizontal",
            "min": 0,
            "description_tooltip": null,
            "_model_module": "@jupyter-widgets/controls",
            "layout": "IPY_MODEL_62c16f585eba4951ab0c2144c799369c"
          }
        },
        "4efe87b3ee544a8c9e7fe5f52f958ac9": {
          "model_module": "@jupyter-widgets/controls",
          "model_name": "HTMLModel",
          "state": {
            "_view_name": "HTMLView",
            "style": "IPY_MODEL_ba8179dbd5b340e494178265d80c9dc1",
            "_dom_classes": [],
            "description": "",
            "_model_name": "HTMLModel",
            "placeholder": "​",
            "_view_module": "@jupyter-widgets/controls",
            "_model_module_version": "1.5.0",
            "value": " 1654784/? [00:01&lt;00:00, 1512714.55it/s]",
            "_view_count": null,
            "_view_module_version": "1.5.0",
            "description_tooltip": null,
            "_model_module": "@jupyter-widgets/controls",
            "layout": "IPY_MODEL_f9973cacce4244019513efdb76729832"
          }
        },
        "41ae595ae9954b98af65359af57c1634": {
          "model_module": "@jupyter-widgets/controls",
          "model_name": "ProgressStyleModel",
          "state": {
            "_view_name": "StyleView",
            "_model_name": "ProgressStyleModel",
            "description_width": "initial",
            "_view_module": "@jupyter-widgets/base",
            "_model_module_version": "1.5.0",
            "_view_count": null,
            "_view_module_version": "1.2.0",
            "bar_color": null,
            "_model_module": "@jupyter-widgets/controls"
          }
        },
        "62c16f585eba4951ab0c2144c799369c": {
          "model_module": "@jupyter-widgets/base",
          "model_name": "LayoutModel",
          "state": {
            "_view_name": "LayoutView",
            "grid_template_rows": null,
            "right": null,
            "justify_content": null,
            "_view_module": "@jupyter-widgets/base",
            "overflow": null,
            "_model_module_version": "1.2.0",
            "_view_count": null,
            "flex_flow": null,
            "width": null,
            "min_width": null,
            "border": null,
            "align_items": null,
            "bottom": null,
            "_model_module": "@jupyter-widgets/base",
            "top": null,
            "grid_column": null,
            "overflow_y": null,
            "overflow_x": null,
            "grid_auto_flow": null,
            "grid_area": null,
            "grid_template_columns": null,
            "flex": null,
            "_model_name": "LayoutModel",
            "justify_items": null,
            "grid_row": null,
            "max_height": null,
            "align_content": null,
            "visibility": null,
            "align_self": null,
            "height": null,
            "min_height": null,
            "padding": null,
            "grid_auto_rows": null,
            "grid_gap": null,
            "max_width": null,
            "order": null,
            "_view_module_version": "1.2.0",
            "grid_template_areas": null,
            "object_position": null,
            "object_fit": null,
            "grid_auto_columns": null,
            "margin": null,
            "display": null,
            "left": null
          }
        },
        "ba8179dbd5b340e494178265d80c9dc1": {
          "model_module": "@jupyter-widgets/controls",
          "model_name": "DescriptionStyleModel",
          "state": {
            "_view_name": "StyleView",
            "_model_name": "DescriptionStyleModel",
            "description_width": "",
            "_view_module": "@jupyter-widgets/base",
            "_model_module_version": "1.5.0",
            "_view_count": null,
            "_view_module_version": "1.2.0",
            "_model_module": "@jupyter-widgets/controls"
          }
        },
        "f9973cacce4244019513efdb76729832": {
          "model_module": "@jupyter-widgets/base",
          "model_name": "LayoutModel",
          "state": {
            "_view_name": "LayoutView",
            "grid_template_rows": null,
            "right": null,
            "justify_content": null,
            "_view_module": "@jupyter-widgets/base",
            "overflow": null,
            "_model_module_version": "1.2.0",
            "_view_count": null,
            "flex_flow": null,
            "width": null,
            "min_width": null,
            "border": null,
            "align_items": null,
            "bottom": null,
            "_model_module": "@jupyter-widgets/base",
            "top": null,
            "grid_column": null,
            "overflow_y": null,
            "overflow_x": null,
            "grid_auto_flow": null,
            "grid_area": null,
            "grid_template_columns": null,
            "flex": null,
            "_model_name": "LayoutModel",
            "justify_items": null,
            "grid_row": null,
            "max_height": null,
            "align_content": null,
            "visibility": null,
            "align_self": null,
            "height": null,
            "min_height": null,
            "padding": null,
            "grid_auto_rows": null,
            "grid_gap": null,
            "max_width": null,
            "order": null,
            "_view_module_version": "1.2.0",
            "grid_template_areas": null,
            "object_position": null,
            "object_fit": null,
            "grid_auto_columns": null,
            "margin": null,
            "display": null,
            "left": null
          }
        },
        "0049444040f8472d9a00ae981880b5b1": {
          "model_module": "@jupyter-widgets/controls",
          "model_name": "HBoxModel",
          "state": {
            "_view_name": "HBoxView",
            "_dom_classes": [],
            "_model_name": "HBoxModel",
            "_view_module": "@jupyter-widgets/controls",
            "_model_module_version": "1.5.0",
            "_view_count": null,
            "_view_module_version": "1.5.0",
            "box_style": "",
            "layout": "IPY_MODEL_f9b9cdbc105140f8b81a891cef128d48",
            "_model_module": "@jupyter-widgets/controls",
            "children": [
              "IPY_MODEL_e7d8a7623bf14178ada84e15b2a603ee",
              "IPY_MODEL_1aed73db26494170b31701c9b4321aab"
            ]
          }
        },
        "f9b9cdbc105140f8b81a891cef128d48": {
          "model_module": "@jupyter-widgets/base",
          "model_name": "LayoutModel",
          "state": {
            "_view_name": "LayoutView",
            "grid_template_rows": null,
            "right": null,
            "justify_content": null,
            "_view_module": "@jupyter-widgets/base",
            "overflow": null,
            "_model_module_version": "1.2.0",
            "_view_count": null,
            "flex_flow": null,
            "width": null,
            "min_width": null,
            "border": null,
            "align_items": null,
            "bottom": null,
            "_model_module": "@jupyter-widgets/base",
            "top": null,
            "grid_column": null,
            "overflow_y": null,
            "overflow_x": null,
            "grid_auto_flow": null,
            "grid_area": null,
            "grid_template_columns": null,
            "flex": null,
            "_model_name": "LayoutModel",
            "justify_items": null,
            "grid_row": null,
            "max_height": null,
            "align_content": null,
            "visibility": null,
            "align_self": null,
            "height": null,
            "min_height": null,
            "padding": null,
            "grid_auto_rows": null,
            "grid_gap": null,
            "max_width": null,
            "order": null,
            "_view_module_version": "1.2.0",
            "grid_template_areas": null,
            "object_position": null,
            "object_fit": null,
            "grid_auto_columns": null,
            "margin": null,
            "display": null,
            "left": null
          }
        },
        "e7d8a7623bf14178ada84e15b2a603ee": {
          "model_module": "@jupyter-widgets/controls",
          "model_name": "FloatProgressModel",
          "state": {
            "_view_name": "ProgressView",
            "style": "IPY_MODEL_6cbd9bbbe9274c6da8f2456af17d97d7",
            "_dom_classes": [],
            "description": "",
            "_model_name": "FloatProgressModel",
            "bar_style": "success",
            "max": 1,
            "_view_module": "@jupyter-widgets/controls",
            "_model_module_version": "1.5.0",
            "value": 1,
            "_view_count": null,
            "_view_module_version": "1.5.0",
            "orientation": "horizontal",
            "min": 0,
            "description_tooltip": null,
            "_model_module": "@jupyter-widgets/controls",
            "layout": "IPY_MODEL_8188cdfb61a54aba82ba99d06c7ff460"
          }
        },
        "1aed73db26494170b31701c9b4321aab": {
          "model_module": "@jupyter-widgets/controls",
          "model_name": "HTMLModel",
          "state": {
            "_view_name": "HTMLView",
            "style": "IPY_MODEL_a61af349e83443088a4644f16666910c",
            "_dom_classes": [],
            "description": "",
            "_model_name": "HTMLModel",
            "placeholder": "​",
            "_view_module": "@jupyter-widgets/controls",
            "_model_module_version": "1.5.0",
            "value": " 8192/? [00:00&lt;00:00, 23912.06it/s]",
            "_view_count": null,
            "_view_module_version": "1.5.0",
            "description_tooltip": null,
            "_model_module": "@jupyter-widgets/controls",
            "layout": "IPY_MODEL_d7436a1800f2403a807b1517fbbfdbca"
          }
        },
        "6cbd9bbbe9274c6da8f2456af17d97d7": {
          "model_module": "@jupyter-widgets/controls",
          "model_name": "ProgressStyleModel",
          "state": {
            "_view_name": "StyleView",
            "_model_name": "ProgressStyleModel",
            "description_width": "initial",
            "_view_module": "@jupyter-widgets/base",
            "_model_module_version": "1.5.0",
            "_view_count": null,
            "_view_module_version": "1.2.0",
            "bar_color": null,
            "_model_module": "@jupyter-widgets/controls"
          }
        },
        "8188cdfb61a54aba82ba99d06c7ff460": {
          "model_module": "@jupyter-widgets/base",
          "model_name": "LayoutModel",
          "state": {
            "_view_name": "LayoutView",
            "grid_template_rows": null,
            "right": null,
            "justify_content": null,
            "_view_module": "@jupyter-widgets/base",
            "overflow": null,
            "_model_module_version": "1.2.0",
            "_view_count": null,
            "flex_flow": null,
            "width": null,
            "min_width": null,
            "border": null,
            "align_items": null,
            "bottom": null,
            "_model_module": "@jupyter-widgets/base",
            "top": null,
            "grid_column": null,
            "overflow_y": null,
            "overflow_x": null,
            "grid_auto_flow": null,
            "grid_area": null,
            "grid_template_columns": null,
            "flex": null,
            "_model_name": "LayoutModel",
            "justify_items": null,
            "grid_row": null,
            "max_height": null,
            "align_content": null,
            "visibility": null,
            "align_self": null,
            "height": null,
            "min_height": null,
            "padding": null,
            "grid_auto_rows": null,
            "grid_gap": null,
            "max_width": null,
            "order": null,
            "_view_module_version": "1.2.0",
            "grid_template_areas": null,
            "object_position": null,
            "object_fit": null,
            "grid_auto_columns": null,
            "margin": null,
            "display": null,
            "left": null
          }
        },
        "a61af349e83443088a4644f16666910c": {
          "model_module": "@jupyter-widgets/controls",
          "model_name": "DescriptionStyleModel",
          "state": {
            "_view_name": "StyleView",
            "_model_name": "DescriptionStyleModel",
            "description_width": "",
            "_view_module": "@jupyter-widgets/base",
            "_model_module_version": "1.5.0",
            "_view_count": null,
            "_view_module_version": "1.2.0",
            "_model_module": "@jupyter-widgets/controls"
          }
        },
        "d7436a1800f2403a807b1517fbbfdbca": {
          "model_module": "@jupyter-widgets/base",
          "model_name": "LayoutModel",
          "state": {
            "_view_name": "LayoutView",
            "grid_template_rows": null,
            "right": null,
            "justify_content": null,
            "_view_module": "@jupyter-widgets/base",
            "overflow": null,
            "_model_module_version": "1.2.0",
            "_view_count": null,
            "flex_flow": null,
            "width": null,
            "min_width": null,
            "border": null,
            "align_items": null,
            "bottom": null,
            "_model_module": "@jupyter-widgets/base",
            "top": null,
            "grid_column": null,
            "overflow_y": null,
            "overflow_x": null,
            "grid_auto_flow": null,
            "grid_area": null,
            "grid_template_columns": null,
            "flex": null,
            "_model_name": "LayoutModel",
            "justify_items": null,
            "grid_row": null,
            "max_height": null,
            "align_content": null,
            "visibility": null,
            "align_self": null,
            "height": null,
            "min_height": null,
            "padding": null,
            "grid_auto_rows": null,
            "grid_gap": null,
            "max_width": null,
            "order": null,
            "_view_module_version": "1.2.0",
            "grid_template_areas": null,
            "object_position": null,
            "object_fit": null,
            "grid_auto_columns": null,
            "margin": null,
            "display": null,
            "left": null
          }
        }
      }
    }
  },
  "cells": [
    {
      "cell_type": "markdown",
      "metadata": {
        "id": "view-in-github",
        "colab_type": "text"
      },
      "source": [
        "<a href=\"https://colab.research.google.com/github/MikeIsMike/CPP_compiler/blob/master/dl_cw2.ipynb\" target=\"_parent\"><img src=\"https://colab.research.google.com/assets/colab-badge.svg\" alt=\"Open In Colab\"/></a>"
      ]
    },
    {
      "cell_type": "markdown",
      "metadata": {
        "id": "VzzPw7rEZ-OX"
      },
      "source": [
        "# Coursework 2: Generative Models\n",
        "\n",
        "## Instructions\n",
        "\n",
        "Please submit on CATe two zip files:\n",
        "\n",
        "*CW2.zip* containing the following:\n",
        "1. A version of this notebook containing your answers. Write your answers in the cells below each question. **Please deliver the notebook including the outputs of the cells below.**\n",
        "2. Your trained VAE model as *VAE_model.pth*\n",
        "\n",
        "*GAN.zip* containing your trained Generator and Discriminator: *DCGAN_model_D.pth and DCGAN_model_G.pth*\n",
        "\n",
        "Please avoid using markdown headings (# ## etc.) as these will affect the ToC. Instead use html headings if you want emphasis.\n",
        "\n",
        "Similarly to the previous coursework, we recommend that you use Google Colaboratory in order to train the required networks.\n",
        "\n",
        "TAs will run a testing cell (at the end of this notebook), so you are required to copy your transform and denorm functions to a cell near the bottom of the document (it is demarkated).\n",
        "\n",
        "<font color=\"blue\">**The deadline for submission is 19:00, Thursday 19th February, 2021** </font>"
      ]
    },
    {
      "cell_type": "markdown",
      "metadata": {
        "id": "1oqY55OLpxDm"
      },
      "source": [
        "## Setting up working environment\n",
        "\n",
        "For this coursework you, will need to train a large network, therefore we recommend you work with Google Colaboratory, which provides free GPU time. You will need a Google account to do so.\n",
        "\n",
        "Please log in to your account and go to the following page: https://colab.research.google.com. Then upload this notebook.\n",
        "\n",
        "For GPU support, go to \"Edit\" -> \"Notebook Settings\", and select \"Hardware accelerator\" as \"GPU\".\n",
        "\n",
        "You will need to install pytorch and import some utilities by running the following cell:"
      ]
    },
    {
      "cell_type": "code",
      "metadata": {
        "id": "FJg7ozC_q3HF"
      },
      "source": [
        "!pip install -q torch torchvision\n",
        "!git clone -q https://github.com/afspies/icl_dl_cw2_utils\n",
        "from icl_dl_cw2_utils.utils.plotting import plot_tsne\n",
        "%load_ext google.colab.data_table"
      ],
      "execution_count": null,
      "outputs": []
    },
    {
      "cell_type": "code",
      "metadata": {
        "id": "oEyMm16MoegE",
        "colab": {
          "base_uri": "https://localhost:8080/"
        },
        "outputId": "ed876cfe-c846-4921-9314-8fdd70caa214"
      },
      "source": [
        "from google.colab import drive\n",
        "drive.mount('/content/drive') # Outputs will be saved in your google drive"
      ],
      "execution_count": null,
      "outputs": [
        {
          "output_type": "stream",
          "text": [
            "Mounted at /content/drive\n"
          ],
          "name": "stdout"
        }
      ]
    },
    {
      "cell_type": "markdown",
      "metadata": {
        "id": "ezLSfB6IqAzK"
      },
      "source": [
        "## Introduction\n",
        "\n",
        "For this coursework, you are asked to implement two commonly used generative models:\n",
        "1. A **Variational Autoencoder (VAE)**\n",
        "2. A **Deep Convolutional Generative Adversarial Network (DCGAN)**\n",
        "\n",
        "For the first part you will the MNIST dataset https://en.wikipedia.org/wiki/MNIST_database and for the second the CIFAR-10 (https://www.cs.toronto.edu/~kriz/cifar.html).\n",
        "\n",
        "Each part is worth 50 points. \n",
        "\n",
        "The emphasis of both parts lies in understanding how the models behave and learn, however, some points will be available for getting good results with your GAN (though you should not spend too long on this)."
      ]
    },
    {
      "cell_type": "markdown",
      "metadata": {
        "id": "75mICbvzqQyx"
      },
      "source": [
        "# Part 1 - Variational Autoencoder\n",
        "\n",
        "## Part 1.1 (25 points)\n",
        "**Your Task:**\n",
        "\n",
        "a. Implement the VAE architecture with accompanying hyperparameters. Experiment with Feedforward and Convolutional Layers to see which gives better results.\n",
        "\n",
        "b. Design an appropriate loss function and train the model.\n"
      ]
    },
    {
      "cell_type": "code",
      "metadata": {
        "id": "ym5l5RmmJtLw",
        "colab": {
          "base_uri": "https://localhost:8080/"
        },
        "outputId": "a1ca7441-f957-4728-e92f-39d4d1fe4fa7"
      },
      "source": [
        "import os\n",
        "import numpy as np\n",
        "import torch\n",
        "import torch.nn as nn\n",
        "from torch.utils.data import DataLoader, sampler\n",
        "from torchvision import datasets, transforms\n",
        "from torchvision.utils import save_image, make_grid\n",
        "import torch.nn.functional as F\n",
        "import matplotlib.pyplot as plt\n",
        "\n",
        "def show(img):\n",
        "    npimg = img.cpu().numpy()\n",
        "    plt.imshow(np.transpose(npimg, (1,2,0)))\n",
        "\n",
        "if not os.path.exists('/content/drive/MyDrive/icl_dl_cw2/CW_VAE/'):\n",
        "    os.makedirs('/content/drive/MyDrive/icl_dl_cw2/CW_VAE/')\n",
        "\n",
        "# We set a random seed to ensure that your results are reproducible.\n",
        "if torch.cuda.is_available():\n",
        "    torch.backends.cudnn.deterministic = True\n",
        "torch.manual_seed(0)\n",
        "\n",
        "GPU = True # Choose whether to use GPU\n",
        "if GPU:\n",
        "    device = torch.device(\"cuda\"  if torch.cuda.is_available() else \"cpu\")\n",
        "else:\n",
        "    device = torch.device(\"cpu\")\n",
        "print(f'Using {device}')"
      ],
      "execution_count": null,
      "outputs": [
        {
          "output_type": "stream",
          "text": [
            "Using cuda\n"
          ],
          "name": "stdout"
        }
      ]
    },
    {
      "cell_type": "markdown",
      "metadata": {
        "id": "hqT7sdGzJtLy"
      },
      "source": [
        "---\n",
        "## Part 1.1a: Implement VAE (25 Points)\n",
        "###Hyper-parameter selection\n"
      ]
    },
    {
      "cell_type": "code",
      "metadata": {
        "id": "ZVPM6pgqJtLz"
      },
      "source": [
        "# Necessary Hyperparameters \n",
        "num_epochs = 5 #TODO tune line 2 to 10\n",
        "learning_rate = 0.001\n",
        "batch_size = 100\n",
        "latent_dim = 2 # Choose a value for the size of the latent space\n",
        "\n",
        "# Additional Hyperparameters \n",
        "weight_decay = 1e-5\n",
        "e_hidden = 500 # num of hidden units in the encoder\n",
        "d_hidden = 500 # num of hidden units in the decoder\n",
        "\n",
        "# (Optionally) Modify transformations on input\n",
        "transform = transforms.Compose([\n",
        "    transforms.ToTensor(),\n",
        "])\n",
        "\n",
        "# (Optionally) Modify the network's output for visualizing your images\n",
        "def denorm(x):\n",
        "    return x"
      ],
      "execution_count": null,
      "outputs": []
    },
    {
      "cell_type": "markdown",
      "metadata": {
        "id": "iN5aL7sdJtL2"
      },
      "source": [
        "### Data loading\n"
      ]
    },
    {
      "cell_type": "code",
      "metadata": {
        "id": "VOKdAZa2JtL3",
        "colab": {
          "base_uri": "https://localhost:8080/",
          "height": 420,
          "referenced_widgets": [
            "41d74c32e0c14a5a90d690637f924191",
            "046230b05df24fda90d4399bde4c6a53",
            "ed9e08d916234492aec26bec29bb0160",
            "48103b9728114e578b64268f046a9c3a",
            "b08be2dd882044ee85b3f1ad599ae15c",
            "8beafa5af6664bdfa0ed613f521dde21",
            "92cce07121a44cd8a218cf21409ae28c",
            "5c888a32524d48038a4219400933c88d",
            "8325b3ad8ca04e4d8b289faec3e8d993",
            "5e6ca8a135754844bf1ce27e16d06f1d",
            "748303e23aa448cd8172d460b8bdc676",
            "5a954afe0a9c470995716f6d68ee5da6",
            "ba703b73561d43a49a3cf789a859c7bd",
            "027bb5f4426043fdabdad4d145903349",
            "43c0eddea1844ee6b151f076dd956ef8",
            "23c1f9f13c3244af9a42a5b3fe8d9576",
            "b7f76d108f6544c5873c3e7a9788a171",
            "2aa648891ff34876bd77cc71cd09c502",
            "63ecd0e61e144b19ac5919c86b90a4d0",
            "4efe87b3ee544a8c9e7fe5f52f958ac9",
            "41ae595ae9954b98af65359af57c1634",
            "62c16f585eba4951ab0c2144c799369c",
            "ba8179dbd5b340e494178265d80c9dc1",
            "f9973cacce4244019513efdb76729832",
            "0049444040f8472d9a00ae981880b5b1",
            "f9b9cdbc105140f8b81a891cef128d48",
            "e7d8a7623bf14178ada84e15b2a603ee",
            "1aed73db26494170b31701c9b4321aab",
            "6cbd9bbbe9274c6da8f2456af17d97d7",
            "8188cdfb61a54aba82ba99d06c7ff460",
            "a61af349e83443088a4644f16666910c",
            "d7436a1800f2403a807b1517fbbfdbca"
          ]
        },
        "outputId": "c0e071d9-ef89-4127-a357-51c8f5b426cf"
      },
      "source": [
        "train_dat = datasets.MNIST(\n",
        "    \"data/\", train=True, download=True, transform=transform\n",
        ")\n",
        "test_dat = datasets.MNIST(\"data/\", train=False, transform=transform)\n",
        "\n",
        "loader_train = DataLoader(train_dat, batch_size, shuffle=True)\n",
        "loader_test = DataLoader(test_dat, batch_size, shuffle=False)\n",
        "\n",
        "# Don't change \n",
        "sample_inputs, _ = next(iter(loader_test))\n",
        "fixed_input = sample_inputs[:32, :, :, :]\n",
        "save_image(fixed_input, '/content/drive/MyDrive/icl_dl_cw2/CW_VAE/image_original.png')"
      ],
      "execution_count": null,
      "outputs": [
        {
          "output_type": "stream",
          "text": [
            "Downloading http://yann.lecun.com/exdb/mnist/train-images-idx3-ubyte.gz to data/MNIST/raw/train-images-idx3-ubyte.gz\n"
          ],
          "name": "stdout"
        },
        {
          "output_type": "display_data",
          "data": {
            "application/vnd.jupyter.widget-view+json": {
              "model_id": "41d74c32e0c14a5a90d690637f924191",
              "version_minor": 0,
              "version_major": 2
            },
            "text/plain": [
              "HBox(children=(FloatProgress(value=1.0, bar_style='info', max=1.0), HTML(value='')))"
            ]
          },
          "metadata": {
            "tags": []
          }
        },
        {
          "output_type": "stream",
          "text": [
            "Extracting data/MNIST/raw/train-images-idx3-ubyte.gz to data/MNIST/raw\n",
            "Downloading http://yann.lecun.com/exdb/mnist/train-labels-idx1-ubyte.gz to data/MNIST/raw/train-labels-idx1-ubyte.gz\n"
          ],
          "name": "stdout"
        },
        {
          "output_type": "display_data",
          "data": {
            "application/vnd.jupyter.widget-view+json": {
              "model_id": "8325b3ad8ca04e4d8b289faec3e8d993",
              "version_minor": 0,
              "version_major": 2
            },
            "text/plain": [
              "HBox(children=(FloatProgress(value=1.0, bar_style='info', max=1.0), HTML(value='')))"
            ]
          },
          "metadata": {
            "tags": []
          }
        },
        {
          "output_type": "stream",
          "text": [
            "Extracting data/MNIST/raw/train-labels-idx1-ubyte.gz to data/MNIST/raw\n",
            "Downloading http://yann.lecun.com/exdb/mnist/t10k-images-idx3-ubyte.gz to data/MNIST/raw/t10k-images-idx3-ubyte.gz\n"
          ],
          "name": "stdout"
        },
        {
          "output_type": "display_data",
          "data": {
            "application/vnd.jupyter.widget-view+json": {
              "model_id": "b7f76d108f6544c5873c3e7a9788a171",
              "version_minor": 0,
              "version_major": 2
            },
            "text/plain": [
              "HBox(children=(FloatProgress(value=1.0, bar_style='info', max=1.0), HTML(value='')))"
            ]
          },
          "metadata": {
            "tags": []
          }
        },
        {
          "output_type": "stream",
          "text": [
            "Extracting data/MNIST/raw/t10k-images-idx3-ubyte.gz to data/MNIST/raw\n",
            "Downloading http://yann.lecun.com/exdb/mnist/t10k-labels-idx1-ubyte.gz to data/MNIST/raw/t10k-labels-idx1-ubyte.gz\n"
          ],
          "name": "stdout"
        },
        {
          "output_type": "display_data",
          "data": {
            "application/vnd.jupyter.widget-view+json": {
              "model_id": "0049444040f8472d9a00ae981880b5b1",
              "version_minor": 0,
              "version_major": 2
            },
            "text/plain": [
              "HBox(children=(FloatProgress(value=1.0, bar_style='info', max=1.0), HTML(value='')))"
            ]
          },
          "metadata": {
            "tags": []
          }
        },
        {
          "output_type": "stream",
          "text": [
            "Extracting data/MNIST/raw/t10k-labels-idx1-ubyte.gz to data/MNIST/raw\n",
            "Processing...\n",
            "Done!\n",
            "\n",
            "\n",
            "\n"
          ],
          "name": "stdout"
        },
        {
          "output_type": "stream",
          "text": [
            "/usr/local/lib/python3.7/dist-packages/torchvision/datasets/mnist.py:480: UserWarning: The given NumPy array is not writeable, and PyTorch does not support non-writeable tensors. This means you can write to the underlying (supposedly non-writeable) NumPy array using the tensor. You may want to copy the array to protect its data or make it writeable before converting it to a tensor. This type of warning will be suppressed for the rest of this program. (Triggered internally at  /pytorch/torch/csrc/utils/tensor_numpy.cpp:141.)\n",
            "  return torch.from_numpy(parsed.astype(m[2], copy=False)).view(*s)\n"
          ],
          "name": "stderr"
        }
      ]
    },
    {
      "cell_type": "markdown",
      "metadata": {
        "id": "LiQDXD24JtL7"
      },
      "source": [
        "### Model Definition\n",
        "\n",
        "<figure>\n",
        "  <img src=\"https://blog.bayeslabs.co/assets/img/vae-gaussian.png\" style=\"width:60%\">\n",
        "  <figcaption>\n",
        "    Fig.1 - VAE Diagram (with a Guassian prior), taken from <a href=\"https://blog.bayeslabs.co/2019/06/04/All-you-need-to-know-about-Vae.html\">1</a>.\n",
        "  </figcaption>\n",
        "</figure>\n",
        "\n",
        "\n",
        "You will need to define:\n",
        "* The hyperparameters\n",
        "* The constructor\n",
        "* encode\n",
        "* reparametrize\n",
        "* decode\n",
        "* forward\n",
        "\n",
        "\n",
        "\n",
        "Hints:\n",
        "- It is common practice to encode the log of the variance, rather than the variance\n",
        "- You might try using BatchNorm"
      ]
    },
    {
      "cell_type": "code",
      "metadata": {
        "id": "wDlll3BUJtL8"
      },
      "source": [
        "# *CODE FOR PART 1.1a IN THIS CELL*\n",
        "\n",
        "class VAE(nn.Module):\n",
        "    def __init__(self, latent_dim):\n",
        "        super(VAE, self).__init__()\n",
        "        #######################################################################\n",
        "        #                       ** START OF YOUR CODE **\n",
        "        #######################################################################\n",
        "        # Encoder layers\n",
        "        self.e_input2hidden = nn.Linear(in_features=784, out_features=e_hidden)\n",
        "        self.e_hidden2mean = nn.Linear(in_features=e_hidden, out_features=latent_dim)\n",
        "        self.e_hidden2logvar = nn.Linear(in_features=e_hidden, out_features=latent_dim)\n",
        "\n",
        "        # Decoder layers\n",
        "        self.d_latent2hidden = nn.Linear(in_features=latent_dim, out_features=d_hidden)\n",
        "        self.d_hidden2image = nn.Linear(in_features=d_hidden, out_features=784)\n",
        "        #######################################################################\n",
        "        #                       ** END OF YOUR CODE **\n",
        "        ####################################################################### \n",
        "        \n",
        "    def encode(self, x):\n",
        "        #######################################################################\n",
        "        #                       ** START OF YOUR CODE **\n",
        "        #######################################################################\n",
        "        # Feed x into encoder using relu as activation fnc\n",
        "        x = F.relu(self.e_input2hidden(x))\n",
        "        mu = self.e_hidden2mean(x)\n",
        "        logvar =  self.e_hidden2logvar(x)\n",
        "        return mu, logvar\n",
        "        #######################################################################\n",
        "        #                       ** END OF YOUR CODE **\n",
        "        ####################################################################### \n",
        "    \n",
        "    def reparametrize(self, mu, logvar):\n",
        "        #######################################################################\n",
        "        #                       ** START OF YOUR CODE **\n",
        "        #######################################################################\n",
        "        # z takes the shape of mu which is (batch_size, latent_dim)\n",
        "        z = torch.randn_like(mu).mul(torch.exp(0.5*logvar)).add_(mu)\n",
        "        return z\n",
        "        #######################################################################\n",
        "        #                       ** END OF YOUR CODE **\n",
        "        ####################################################################### \n",
        "\n",
        "    def decode(self, z):\n",
        "        #######################################################################\n",
        "        #                       ** START OF YOUR CODE **\n",
        "        #######################################################################\n",
        "        # Using relu as hidden layer activation fnc and sigmoid as output activation to limit each pixel of the output to be between 0 and 1\n",
        "        x_reconstructed = torch.sigmoid(self.d_hidden2image(F.relu(self.d_latent2hidden(z))))\n",
        "\n",
        "        return x_reconstructed\n",
        "        #######################################################################\n",
        "        #                       ** END OF YOUR CODE **\n",
        "        ####################################################################### \n",
        "    \n",
        "    def forward(self, x):\n",
        "        #######################################################################\n",
        "        #                       ** START OF YOUR CODE **\n",
        "        #######################################################################\n",
        "        # Flatten image height and width into 1 dimension(input features), keep batch size\n",
        "        x = x.view(-1, 784)\n",
        "\n",
        "        mu, logvar = self.encoder(x)\n",
        "        \n",
        "        if self.training:\n",
        "          z = self.reparametrize(mu, logvar)\n",
        "        else:\n",
        "          z = mu\n",
        "\n",
        "        x_reconstructed = self.decode(z)\n",
        "\n",
        "        return x_reconstructed, mu, logvar\n",
        "        #######################################################################\n",
        "        #                       ** END OF YOUR CODE **\n",
        "        ####################################################################### \n",
        "\n",
        "model = VAE(latent_dim).to(device)\n",
        "params = sum(p.numel() for p in model.parameters() if p.requires_grad)\n",
        "print(\"Total number of parameters is: {}\".format(params))\n",
        "print(model)\n",
        "# optimizer\n",
        "optimizer = torch.optim.Adam(model.parameters(), lr=learning_rate)"
      ],
      "execution_count": null,
      "outputs": []
    },
    {
      "cell_type": "markdown",
      "metadata": {
        "id": "aeSX6RZhJtMB"
      },
      "source": [
        "--- \n",
        "\n",
        "## Part 1.1b: Training the Model (5 Points)"
      ]
    },
    {
      "cell_type": "markdown",
      "metadata": {
        "id": "JN-Pc0mvq-7_"
      },
      "source": [
        "### Defining a Loss\n",
        "Recall the Beta VAE loss, with an encoder $q$ and decoder $p$:\n",
        "$$ \\mathcal{L}=\\mathbb{E}_{q_\\phi(z \\mid X)}[\\log p_\\theta(X \\mid z)]-\\beta D_{K L}[q_\\phi(z \\mid X) \\| p_\\theta(z)]$$\n",
        "\n",
        "In order to implement this loss you will need to think carefully about your model's outputs and the choice of prior.\n",
        "\n",
        "There are multiple accepted solutions. Explain your design choices based on the assumptions you make regarding the distribution of your data.\n",
        "\n",
        "* Hint: this refers to the log likelihood as mentioned in the tutorial. Make sure these assumptions reflect on the values of your input data, i.e. depending on your choice you might need to do a simple preprocessing step.\n",
        "\n",
        "* You are encouraged to experiment with the weighting coefficient $\\beta$ and observe how it affects your training"
      ]
    },
    {
      "cell_type": "code",
      "metadata": {
        "id": "F6CeeS9CJtMC"
      },
      "source": [
        "# *CODE FOR PART 1.1b IN THIS CELL*\n",
        "\n",
        "def loss_function_VAE(recon_x, x, mu, logvar, beta):\n",
        "        #######################################################################\n",
        "        #                       ** START OF YOUR CODE **\n",
        "        #######################################################################\n",
        "     \n",
        "        #######################################################################\n",
        "        #                       ** END OF YOUR CODE **\n",
        "        ####################################################################### \n",
        "\n",
        "model.train()\n",
        "for epoch in range(num_epochs):     \n",
        "        #######################################################################\n",
        "        #                       ** START OF YOUR CODE **\n",
        "        #######################################################################\n",
        "        data = None # One batch\n",
        "\n",
        "        #######################################################################\n",
        "        #                       ** END OF YOUR CODE **\n",
        "        ####################################################################### \n",
        "        \n",
        "        # save the model\n",
        "        if epoch == num_epochs - 1:\n",
        "            with torch.no_grad():\n",
        "                torch.jit.save(torch.jit.trace(model, (data), check_trace=False),\n",
        "                    '/content/drive/MyDrive/icl_dl_cw2/CW_VAE/VAE_model.pth')\n"
      ],
      "execution_count": null,
      "outputs": []
    },
    {
      "cell_type": "markdown",
      "metadata": {
        "id": "vF6B26_oJtMF"
      },
      "source": [
        "### Loss Explanation\n",
        "Explain your choice of loss and how this relates to:\n",
        "\n",
        "* The VAE Prior\n",
        "* The output data domain\n",
        "* Disentanglement in the latent space\n"
      ]
    },
    {
      "cell_type": "code",
      "metadata": {
        "id": "DUqWwUvlrYnH"
      },
      "source": [
        "# Any code for your explanation here"
      ],
      "execution_count": null,
      "outputs": []
    },
    {
      "cell_type": "markdown",
      "metadata": {
        "id": "dhjE07mrB7Zs"
      },
      "source": [
        "**YOUR ANSWER**"
      ]
    },
    {
      "cell_type": "markdown",
      "metadata": {
        "id": "ez5nlMi1JtMF"
      },
      "source": [
        "<h2>Part 1.2 (9 points)</h2>\n",
        "\n",
        "a. Plot your loss curves\n",
        "\n",
        "b. Show reconstructions and samples\n",
        "\n",
        "c. Discuss your results from parts (a) and (b)\n",
        "\n",
        "## Part 1.2a: Loss Curves (3 Points)\n",
        "Plot your loss curves (6 in total, 3 for the training set and 3 for the test set): total loss, reconstruction log likelihood loss, KL loss (x-axis: epochs, y-axis: loss). If you experimented with different values of $\\beta$, you may wish to display multiple plots (worth 1 point)."
      ]
    },
    {
      "cell_type": "code",
      "metadata": {
        "id": "AADYspqtJtMG"
      },
      "source": [
        "# *CODE FOR PART 1.2a IN THIS CELL*"
      ],
      "execution_count": null,
      "outputs": []
    },
    {
      "cell_type": "markdown",
      "metadata": {
        "id": "B7wp4MzqsjjZ"
      },
      "source": [
        "## Part 1.2b: Samples and Reconstructions (6 Points)\n",
        "Visualize a subset of the images of the test set and their reconstructions **as well as** a few generated samples. Most of the code for this part is provided. You only need to call the forward pass of the model for the given inputs (might vary depending on your implementation)."
      ]
    },
    {
      "cell_type": "code",
      "metadata": {
        "id": "Wu9CWtqoJtMK"
      },
      "source": [
        "# *CODE FOR PART 1.2b IN THIS CELL*\n",
        "\n",
        "# load the model\n",
        "print('Input images')\n",
        "print('-'*50)\n",
        "\n",
        "sample_inputs, _ = next(iter(loader_test))\n",
        "fixed_input = sample_inputs[0:32, :, :, :]\n",
        "# visualize the original images of the last batch of the test set\n",
        "img = make_grid(denorm(fixed_input), nrow=8, padding=2, normalize=False,\n",
        "                range=None, scale_each=False, pad_value=0)\n",
        "plt.figure()\n",
        "show(img)\n",
        "\n",
        "print('Reconstructed images')\n",
        "print('-'*50)\n",
        "with torch.no_grad():\n",
        "    # visualize the reconstructed images of the last batch of test set\n",
        "    \n",
        "    #######################################################################\n",
        "    #                       ** START OF YOUR CODE **\n",
        "    #######################################################################\n",
        "    recon_batch = \n",
        "    #######################################################################\n",
        "    #                       ** END OF YOUR CODE **\n",
        "    ####################################################################### \n",
        "    \n",
        "    recon_batch = recon_batch.cpu()\n",
        "    recon_batch = make_grid(denorm(recon_batch), nrow=8, padding=2, normalize=False,\n",
        "                            range=None, scale_each=False, pad_value=0)\n",
        "    plt.figure()\n",
        "    show(recon_batch)\n",
        "\n",
        "print('Generated Images')  \n",
        "print('-'*50)\n",
        "model.eval()\n",
        "n_samples = 256\n",
        "z = torch.randn(n_samples,latent_dim).to(device)\n",
        "with torch.no_grad():\n",
        "    #######################################################################\n",
        "    #                       ** START OF YOUR CODE **\n",
        "    #######################################################################\n",
        "    samples =\n",
        "    #######################################################################\n",
        "    #                       ** END OF YOUR CODE **\n",
        "    ####################################################################### \n",
        "    \n",
        "    samples = samples.cpu()\n",
        "    samples = make_grid(denorm(samples), nrow=16, padding=2, normalize=False,\n",
        "                            range=None, scale_each=False, pad_value=0)\n",
        "    plt.figure(figsize = (8,8))\n",
        "    show(samples)\n",
        "\n"
      ],
      "execution_count": null,
      "outputs": []
    },
    {
      "cell_type": "markdown",
      "metadata": {
        "id": "IfZJRgj1rudZ"
      },
      "source": [
        "### Discussion\n",
        "Provide a brief analysis of your loss curves and reconstructions: \n",
        "* What do you observe in the behaviour of the log-likelihood loss and the KL loss (increasing/decreasing)?\n",
        "* Can you intuitively explain if this behaviour is desirable? Have you observed posterior collapse during traing (i.e. when the KL is too small during the early stages of training)? \n",
        "    * If yes, how did you mitigate it? How did this phenomenon reflect on your output samples?\n",
        "    * If no, why do you think that is?"
      ]
    },
    {
      "cell_type": "markdown",
      "metadata": {
        "id": "vy4KKp2UJtMJ"
      },
      "source": [
        "**YOUR ANSWER**"
      ]
    },
    {
      "cell_type": "markdown",
      "metadata": {
        "id": "JTprojS7sLP8"
      },
      "source": [
        "---\n",
        "<h2> Part 1.3 (11 points) <h2/>\n",
        "\n",
        "Qualitative analysis of the learned representations\n",
        "\n",
        "In this question you are asked to qualitatively assess the representations that your model has learned. In particular:\n",
        "\n",
        "a. Dimensionality Reduction of learned embeddings\n",
        "\n",
        "b. Interpolating in the latent space\n",
        "\n",
        "## Part 1.3a: T-SNE on Embeddings (7 Points)\n",
        "Extract the latent representations of the test set and visualize them using [T-SNE](https://en.wikipedia.org/wiki/T-distributed_stochastic_neighbor_embedding)  [(see implementation)](https://scikit-learn.org/stable/modules/generated/sklearn.manifold.TSNE.html). \n",
        "\n",
        "We've provided a function to visualize a subset of the data, but you are encouraged to also produce a matplotlib plot (please use different colours for each digit class)."
      ]
    },
    {
      "cell_type": "code",
      "metadata": {
        "id": "Xl4xZOg7s0ke",
        "colab": {
          "base_uri": "https://localhost:8080/"
        },
        "outputId": "4af471ef-cb1c-4dee-d80e-0ef20981f5d9"
      },
      "source": [
        "# *CODE FOR PART 1.3a IN THIS CELL"
      ],
      "execution_count": null,
      "outputs": [
        {
          "output_type": "stream",
          "text": [
            "Performing TSNE\n"
          ],
          "name": "stdout"
        }
      ]
    },
    {
      "cell_type": "code",
      "metadata": {
        "id": "-M_EI2ZnnXHZ"
      },
      "source": [
        "# Interactive Visualization - Code Provided\n",
        "test_dataloader = DataLoader(test_dat, 10000, shuffle=False)\n",
        "\"\"\" Inputs to the function are\n",
        "        z_embedded - X, Y positions for every point in test_dataloader\n",
        "        test_dataloader - dataloader with batchsize set to 10000\n",
        "        num_points - number of points plotted (will slow down with >1k)\n",
        "\"\"\"\n",
        "plot_tsne(z_embedded, test_dataloader, num_points=1000, darkmode=False)\n"
      ],
      "execution_count": null,
      "outputs": []
    },
    {
      "cell_type": "code",
      "metadata": {
        "id": "xvQvtlDzIB3M"
      },
      "source": [
        "# Custom Visualizations"
      ],
      "execution_count": null,
      "outputs": []
    },
    {
      "cell_type": "markdown",
      "metadata": {
        "id": "6HiAHb0ztTW8"
      },
      "source": [
        "### Discussion\n",
        "What do you observe? Discuss the structure of the visualized representations. \n",
        "* What do you observe? What role do the KL loss term and $\\beta$ have, if any, in what you observe (multiple matplotlib plots may be desirable here)?\n",
        "    * Consider Outliers\n",
        "    * Counsider Boundaries\n",
        "    * Consider Clusters\n",
        "* Is T-SNE reliable? What happens if you change the parameters (don't worry about being particularly thorough). [This link](https://distill.pub/2016/misread-tsne/) may be helpful."
      ]
    },
    {
      "cell_type": "markdown",
      "metadata": {
        "id": "u0_3QlEYteYk"
      },
      "source": [
        "**YOUR ANSWER**"
      ]
    },
    {
      "cell_type": "markdown",
      "metadata": {
        "id": "uCtbTLv4thEH"
      },
      "source": [
        "## Part 1.3b: Interpolating in $z$ (4 Points)\n",
        "Perform a linear interpolation in the latent space of the autoencoder by choosing any two digits from the test set. What do you observe regarding the transition from on digit to the other?\n"
      ]
    },
    {
      "cell_type": "code",
      "metadata": {
        "id": "MVk7GUIxtgiF"
      },
      "source": [
        "# CODE FOR PART 1.3b IN THIS CELL"
      ],
      "execution_count": null,
      "outputs": []
    },
    {
      "cell_type": "markdown",
      "metadata": {
        "id": "gdk6yyrittNx"
      },
      "source": [
        "### Discussion\n",
        "What did you observe in the interpolation? Is this what you expected?\n",
        "* Can you relate the interpolation to your T-SNE visualization"
      ]
    },
    {
      "cell_type": "markdown",
      "metadata": {
        "id": "ZF2jUHWHtt3V"
      },
      "source": [
        "**YOUR ANSWER**"
      ]
    },
    {
      "cell_type": "markdown",
      "metadata": {
        "id": "EG68ntJ2qfIC"
      },
      "source": [
        "# Part 2 - Deep Convolutional GAN\n",
        "\n",
        "In this task, your main objective is to train a DCGAN (https://arxiv.org/abs/1511.06434) on the CIFAR-10 dataset. You should experiment with different architectures, tricks for stability in training (such as using different activation functions, batch normalization, different values for the hyper-parameters, etc.). In the end, you should provide us with: \n",
        "\n",
        "- your best trained model (which we will be able to run), \n",
        "- some generations for the fixed latent vectors $\\mathbf{z}\\sim \\mathcal{N}\\left(\\mathbf{0}, \\mathbf{I}\\right)$ we have provided you with (train for a number of epochs and make sure there is no mode collapse), \n",
        "- plots with the losses for the discriminator $D$ and the generator $G$ as the training progresses and explain whether your produced plots are theoretically sensible and why this is (or not) the case. \n",
        "- a discussion on whether you noticed any mode collapse, where this behaviour may be attributed to, and explanations of what you did in order to cope with mode collapse. \n",
        "\n",
        "## Part 2.1 (30 points)\n",
        "**Your Task**: \n",
        "\n",
        "a. Implement the DCGAN architecture. \n",
        "\n",
        "b. Define a loss and implement the Training Loop\n",
        "\n",
        "c. Visualize images sampled from your best model's generator (\"Extension\" Assessed on quality)\n",
        "\n",
        "d. Discuss the experimentations which led to your final architecture. You can plot losses or generated results by other architectures that you tested to back your arguments (but this is not necessary to get full marks).\n",
        "\n",
        "\n",
        "_Clarification: You should not be worrying too much about getting an \"optimal\" performance on your trained GAN. We want you to demonstrate to us that you experimented with different types of DCGAN variations, report what difficulties transpired throughout the training process, etc. In other words, if we see that you provided us with a running implementation, that you detail different experimentations that you did before providing us with your best one, and that you have grapsed the concepts, you can still get good marks. The attached model does not have to be perfect, and the extension marks for performance are only worth 10 points._"
      ]
    },
    {
      "cell_type": "code",
      "metadata": {
        "id": "uFEt7wGXP_aE",
        "colab": {
          "base_uri": "https://localhost:8080/"
        },
        "outputId": "a93f75c8-8a22-4386-8d0d-ddb799565d2b"
      },
      "source": [
        "import os\n",
        "import numpy as np\n",
        "import torch\n",
        "import torch.nn as nn\n",
        "from torch.utils.data import DataLoader\n",
        "from torch.utils.data import sampler\n",
        "from torchvision import datasets, transforms\n",
        "from torchvision.utils import save_image, make_grid\n",
        "from torch.optim.lr_scheduler import StepLR, MultiStepLR\n",
        "import torch.nn.functional as F\n",
        "import matplotlib.pyplot as plt\n",
        "\n",
        "\n",
        "def denorm(x, channels=None, w=None ,h=None, resize = False):\n",
        "    x = 0.5 * (x + 1)\n",
        "    x = x.clamp(0, 1)\n",
        "    if resize:\n",
        "        if channels is None or w is None or h is None:\n",
        "            print('Number of channels, width and height must be provided for resize.')\n",
        "        x = x.view(x.size(0), channels, w, h)\n",
        "    return x\n",
        "\n",
        "def show(img):\n",
        "    npimg = img.cpu().numpy()\n",
        "    plt.imshow(np.transpose(npimg, (1,2,0)))\n",
        "\n",
        "if not os.path.exists('/content/drive/MyDrive/icl_dl_cw2/CW_GAN'):\n",
        "    os.makedirs('/content/drive/MyDrive/icl_dl_cw2/CW_GAN')\n",
        "\n",
        "GPU = True # Choose whether to use GPU\n",
        "if GPU:\n",
        "    device = torch.device(\"cuda\"  if torch.cuda.is_available() else \"cpu\")\n",
        "else:\n",
        "    device = torch.device(\"cpu\")\n",
        "print(f'Using {device}')\n",
        "\n",
        "# We set a random seed to ensure that your results are reproducible.\n",
        "if torch.cuda.is_available():\n",
        "    torch.backends.cudnn.deterministic = True\n",
        "torch.manual_seed(0)"
      ],
      "execution_count": null,
      "outputs": [
        {
          "output_type": "stream",
          "text": [
            "Using cuda\n"
          ],
          "name": "stdout"
        },
        {
          "output_type": "execute_result",
          "data": {
            "text/plain": [
              "<torch._C.Generator at 0x7f66859a1bb8>"
            ]
          },
          "metadata": {
            "tags": []
          },
          "execution_count": 15
        }
      ]
    },
    {
      "cell_type": "markdown",
      "metadata": {
        "id": "VosOpcpfGvWO"
      },
      "source": [
        "### Part 2.1a: Implement DCGAN (8 Points)\n",
        "Fill in the missing parts in the cells below in order to complete the Generator and Discriminator classes. You will need to define:\n",
        "\n",
        "- The hyperparameters\n",
        "- The constructors\n",
        "- `decode`\n",
        "- `discriminator`\n",
        "\n",
        "Recomendations for experimentation:\n",
        "- use the architecture that you implemented for the Autoencoder of Part 1 (encoder as discriminator, decoder as generator).\n",
        "- use the architecture desribed in the DCGAN paper (https://arxiv.org/abs/1511.06434).\n",
        "\n",
        "Some general reccomendations:\n",
        "- add several convolutional layers (3-4).\n",
        "- accelerate training with batch normalization after every convolutional layer.\n",
        "- use the appropriate activation functions. \n",
        "- Generator module: the upsampling can be done with various methods, such as nearest neighbor upsampling (`torch.nn.Upsample`) or transposed convolutions(`torch.nn.ConvTranspose2d`). \n",
        "- Discriminator module: Experiment with batch normalization (`torch.nn.BatchNorm2d`) and leaky relu (`torch.nn.LeakyReLu`) units after each convolutional layer.\n",
        "\n",
        "Try to follow the common practices for CNNs (e.g small receptive fields, max pooling, RELU activations), in order to narrow down your possible choices.\n",
        "\n",
        "<font color=\"red\">**Your model should not have more than 25 Million Parameters**</font>\n",
        "\n",
        "The number of epochs that will be needed in order to train the network will vary depending on your choices. As an advice, we recommend that while experimenting you should allow around 20 epochs and if the loss doesn't sufficiently drop, restart the training with a more powerful architecture. You don't need to train the network to an extreme if you don't have the time."
      ]
    },
    {
      "cell_type": "markdown",
      "metadata": {
        "id": "pOi_Q_jleQJq"
      },
      "source": [
        "#### Data loading"
      ]
    },
    {
      "cell_type": "code",
      "metadata": {
        "id": "__ENlW2aeQJr"
      },
      "source": [
        "batch_size =   # change that\n",
        "\n",
        "transform = transforms.Compose([\n",
        "     transforms.ToTensor(),\n",
        "     transforms.Normalize(mean=(0.5, 0.5, 0.5), std=(0.5, 0.5, 0.5),),                        \n",
        "])\n",
        "\n",
        "data_dir = './datasets'\n",
        "\n",
        "cifar10_train = datasets.CIFAR10(data_dir, train=True, download=True, transform=transform)\n",
        "cifar10_test = datasets.CIFAR10(data_dir, train=False, download=True, transform=transform)\n",
        "loader_train = DataLoader(cifar10_train, batch_size=batch_size)\n",
        "loader_test = DataLoader(cifar10_test, batch_size=batch_size)"
      ],
      "execution_count": null,
      "outputs": []
    },
    {
      "cell_type": "markdown",
      "metadata": {
        "id": "-TmrRudFRhOB"
      },
      "source": [
        "We'll visualize a subset of the test set: "
      ]
    },
    {
      "cell_type": "code",
      "metadata": {
        "id": "CY2ka775Rfxm"
      },
      "source": [
        "samples, _ = next(iter(loader_test))\n",
        "\n",
        "samples = samples.cpu()\n",
        "samples = make_grid(denorm(samples), nrow=8, padding=2, normalize=False,\n",
        "                        range=None, scale_each=False, pad_value=0)\n",
        "plt.figure(figsize = (15,15))\n",
        "plt.axis('off')\n",
        "show(samples)"
      ],
      "execution_count": null,
      "outputs": []
    },
    {
      "cell_type": "markdown",
      "metadata": {
        "id": "XSkveP0mZ-Pd"
      },
      "source": [
        "#### Model Definition\n",
        "Define hyperparameters and the model"
      ]
    },
    {
      "cell_type": "code",
      "metadata": {
        "id": "FBoxMTihZ-Pd"
      },
      "source": [
        "# *CODE FOR PART 2.1 IN THIS CELL*\n",
        "\n",
        "# Choose the number of epochs, the learning rate\n",
        "# and the size of the Generator's input noise vetor.\n",
        "\n",
        "num_epochs = \n",
        "learning_rate =\n",
        "latent_vector_size = \n",
        "\n",
        "# Other hyperparams\n"
      ],
      "execution_count": null,
      "outputs": []
    },
    {
      "cell_type": "code",
      "metadata": {
        "id": "ATTUAhCDZ-Pg"
      },
      "source": [
        "# *CODE FOR PART 2.1 IN THIS CELL*\n",
        "\n",
        "\n",
        "class Generator(nn.Module):\n",
        "    def __init__(self):\n",
        "        super(Generator, self).__init__()\n",
        "        #######################################################################\n",
        "        #                       ** START OF YOUR CODE **\n",
        "        #######################################################################\n",
        "\n",
        "        #######################################################################\n",
        "        #                       ** END OF YOUR CODE **\n",
        "        ####################################################################### \n",
        "\n",
        "\n",
        "    def forward(self, z, label):\n",
        "        #######################################################################\n",
        "        #                       ** START OF YOUR CODE **\n",
        "        #######################################################################\n",
        "       \n",
        "        #######################################################################\n",
        "        #                       ** END OF YOUR CODE **\n",
        "        #######################################################################\n",
        "        return out\n",
        "\n",
        "\n",
        "class Discriminator(nn.Module):\n",
        "    def __init__(self):\n",
        "        super(Discriminator, self).__init__()\n",
        "        #######################################################################\n",
        "        #                       ** START OF YOUR CODE **\n",
        "        #######################################################################\n",
        "     \n",
        "        #######################################################################\n",
        "        #                       ** END OF YOUR CODE **\n",
        "        ####################################################################### \n",
        "        \n",
        "    def forward(self, x, label):\n",
        "        #######################################################################\n",
        "        #                       ** START OF YOUR CODE **\n",
        "        #######################################################################\n",
        "     \n",
        "        #######################################################################\n",
        "        #                       ** END OF YOUR CODE **\n",
        "        ####################################################################### \n",
        "        \n",
        "        return out\n"
      ],
      "execution_count": null,
      "outputs": []
    },
    {
      "cell_type": "markdown",
      "metadata": {
        "id": "o8YDyYf8Z-Pi"
      },
      "source": [
        "<h2> Initialize Model and print number of parameters </h2>"
      ]
    },
    {
      "cell_type": "markdown",
      "metadata": {
        "id": "Xh3NpfD_Z-Pj"
      },
      "source": [
        "You can use method `weights_init` to initialize the weights of the Generator and Discriminator networks. Otherwise, implement your own initialization, or do not use at all. You will not be penalized for not using initialization."
      ]
    },
    {
      "cell_type": "code",
      "metadata": {
        "id": "JAVpgpmUZ-Pk"
      },
      "source": [
        "# custom weights initialization called on netG and netD\n",
        "def weights_init(m):\n",
        "    classname = m.__class__.__name__\n",
        "    if classname.find('Conv') != -1:\n",
        "        m.weight.data.normal_(0.0, 0.02)\n",
        "    elif classname.find('BatchNorm') != -1:\n",
        "        m.weight.data.normal_(1.0, 0.02)\n",
        "        m.bias.data.fill_(0)"
      ],
      "execution_count": null,
      "outputs": []
    },
    {
      "cell_type": "code",
      "metadata": {
        "id": "Ew-OdvNJZ-Pm"
      },
      "source": [
        "use_weights_init = True\n",
        "\n",
        "model_G = Generator().to(device)\n",
        "if use_weights_init:\n",
        "    model_G.apply(weights_init)\n",
        "params_G = sum(p.numel() for p in model_G.parameters() if p.requires_grad)\n",
        "print(\"Total number of parameters in Generator is: {}\".format(params_G))\n",
        "print(model_G)\n",
        "print('\\n')\n",
        "\n",
        "model_D = Discriminator().to(device)\n",
        "if use_weights_init:\n",
        "    model_D.apply(weights_init)\n",
        "params_D = sum(p.numel() for p in model_D.parameters() if p.requires_grad)\n",
        "print(\"Total number of parameters in Discriminator is: {}\".format(params_D))\n",
        "print(model_D)\n",
        "print('\\n')\n",
        "\n",
        "print(\"Total number of parameters is: {}\".format(params_G + params_D))"
      ],
      "execution_count": null,
      "outputs": []
    },
    {
      "cell_type": "markdown",
      "metadata": {
        "id": "by_TNUPXJamb"
      },
      "source": [
        "### Part 2.1b: Training the Model (12 Points)"
      ]
    },
    {
      "cell_type": "markdown",
      "metadata": {
        "id": "00wgs1VNZ-Pp"
      },
      "source": [
        "#### Defining a Loss"
      ]
    },
    {
      "cell_type": "code",
      "metadata": {
        "id": "gPlxaL_cZ-Pq"
      },
      "source": [
        "def loss_function(out, label):\n",
        "    loss = \n",
        "    return loss"
      ],
      "execution_count": null,
      "outputs": []
    },
    {
      "cell_type": "markdown",
      "metadata": {
        "id": "GrgmhlSXZ-Ps"
      },
      "source": [
        "<h3>Choose and initialize optimizers</h3>"
      ]
    },
    {
      "cell_type": "code",
      "metadata": {
        "id": "pFM8iI24Z-Pt"
      },
      "source": [
        "# setup optimizer\n",
        "# You are free to add a scheduler or change the optimizer if you want. We chose one for you for simplicity.\n",
        "beta1 = 0.5\n",
        "optimizerD = torch.optim.Adam(model_D.parameters(), lr=learning_rate, betas=(beta1, 0.999))\n",
        "optimizerG = torch.optim.Adam(model_G.parameters(), lr=learning_rate, betas=(beta1, 0.999))\n"
      ],
      "execution_count": null,
      "outputs": []
    },
    {
      "cell_type": "markdown",
      "metadata": {
        "id": "qZ311RPlZ-Pv"
      },
      "source": [
        "<h3> Define fixed input vectors to monitor training and mode collapse. </h3>"
      ]
    },
    {
      "cell_type": "code",
      "metadata": {
        "id": "EGB_9A1UZ-Pw"
      },
      "source": [
        "fixed_noise = torch.randn(batch_size, latent_vector_size, 1, 1, device=device)\n",
        "real_label = 1\n",
        "fake_label = 0"
      ],
      "execution_count": null,
      "outputs": []
    },
    {
      "cell_type": "markdown",
      "metadata": {
        "id": "gD9S_3yZZ-Py"
      },
      "source": [
        "#### Training Loop"
      ]
    },
    {
      "cell_type": "code",
      "metadata": {
        "id": "w5vD--X6Z-Pz"
      },
      "source": [
        "train_losses_G = []\n",
        "train_losses_D = []\n",
        "\n",
        "for epoch in range(num_epochs):\n",
        "    for i, data in enumerate(loader_train, 0):\n",
        "        train_loss_D = 0\n",
        "        train_loss_G = 0\n",
        "        \n",
        "        ############################\n",
        "        # (1) Update D network: maximize log(D(x)) + log(1 - D(G(z)))\n",
        "        ###########################device\n",
        "        # train with real\n",
        "\n",
        "\n",
        "        # train with fake\n",
        "\n",
        "\n",
        "        ############################\n",
        "        # (2) Update G network: maximize log(D(G(z)))\n",
        "        ###########################\n",
        "        \n",
        "\n",
        "        print('[%d/%d][%d/%d] Loss_D: %.4f Loss_G: %.4f D(x): %.4f D(G(z)): %.4f / %.4f'\n",
        "              % (epoch, num_epochs, i, len(loader_train),\n",
        "                 errD.item(), errG.item(), D_x, D_G_z1, D_G_z2))\n",
        "\n",
        "    if epoch == 0:\n",
        "        save_image(denorm(real_cpu.cpu()).float(), '/content/drive/MyDrive/icl_dl_cw2/CW_GAN/real_samples.png')\n",
        "    with torch.no_grad():\n",
        "        fake = model_G(fixed_noise)\n",
        "        save_image(denorm(fake.cpu()).float(), '/content/drive/MyDrive/icl_dl_cw2/CW_GAN/fake_samples_epoch_%03d.png' % epoch)\n",
        "    train_losses_D.append(train_loss_D / len(loader_train))\n",
        "    train_losses_G.append(train_loss_G / len(loader_train))\n",
        "   \n",
        "    \n",
        "# save  models \n",
        "# if your discriminator/generator are conditional you'll want to change the inputs here\n",
        "torch.jit.save(torch.jit.trace(model_G, (fixed_noise)), '/content/drive/MyDrive/icl_dl_cw2/CW_GAN/GAN_G_model.pth')\n",
        "torch.jit.save(torch.jit.trace(model_D, (fake)), '/content/drive/MyDrive/icl_dl_cw2/CW_GAN/GAN_D_model.pth')\n",
        "\n"
      ],
      "execution_count": null,
      "outputs": []
    },
    {
      "cell_type": "markdown",
      "metadata": {
        "id": "QOjxGURDINm7"
      },
      "source": [
        "## Part 2.1c: Results (10 Points)\n",
        "This part is fairly open-ended, but not worth too much so do not go crazy. The table below shows examples of what are considered good samples. Level 3 and above will get you 10/10 points, level 2 will roughly get you 5/10 points and level 1 and below will get you 0/10 points.\n",
        "\n",
        "<table><tr>\n",
        "<td> \n",
        "  <p align=\"center\" style=\"padding: 10px\">\n",
        "    <img alt=\"Forwarding\" src=\"https://drive.google.com/uc?id=1wQ2f10-A1Vs7k0LMfBPPyYTsPlkBF9QE\" width=\"%30\">\n",
        "    <br>\n",
        "    <em style=\"color: grey\">Level 1</em>\n",
        "  </p> \n",
        "</td>\n",
        "<td> \n",
        "  <p align=\"center\">\n",
        "    <img alt=\"Routing\" src=\"https://drive.google.com/uc?id=1wlDhX4hROET4s8Ndxn8nhj_0RLM2rnuG\" width=\"%30\">\n",
        "    <br>\n",
        "    <em style=\"color: grey\">Level 2</em>\n",
        "  </p> \n",
        "</td>\n",
        "<td> \n",
        "  <p align=\"center\">\n",
        "    <img alt=\"Routing\" src=\"https://drive.google.com/uc?id=1w9VrgfJLCRaTPhwoFVYdYhtCeaQmFHGb\" width=\"%30\">\n",
        "    <br>\n",
        "    <em style=\"color: grey\">Level 3</em>\n",
        "  </p> \n",
        "</td>\n",
        "</tr></table>"
      ]
    },
    {
      "cell_type": "markdown",
      "metadata": {
        "id": "5IQIKTdPZ-P5"
      },
      "source": [
        "### Generator samples"
      ]
    },
    {
      "cell_type": "code",
      "metadata": {
        "id": "VIHi0HrJZ-P8"
      },
      "source": [
        "input_noise = torch.randn(100, latent_vector_size, 1, 1, device=device)\n",
        "with torch.no_grad():\n",
        "    # visualize the generated images\n",
        "    generated = model_G(input_noise).cpu()\n",
        "    generated = make_grid(denorm(generated)[:100], nrow=10, padding=2, normalize=False, \n",
        "                        range=None, scale_each=False, pad_value=0)\n",
        "    plt.figure(figsize=(15,15))\n",
        "    save_image(generated,'/content/drive/MyDrive/icl_dl_cw2/CW_GAN/Teaching30final.png')\n",
        "    show(generated) # note these are now class conditional images columns rep classes 1-10\n",
        "\n",
        "it = iter(loader_test)\n",
        "sample_inputs, _ = next(it)\n",
        "fixed_input = sample_inputs[0:64, :, :, :]\n",
        "# visualize the original images of the last batch of the test set for comparison\n",
        "img = make_grid(denorm(fixed_input), nrow=8, padding=2, normalize=False,\n",
        "                range=None, scale_each=False, pad_value=0)\n",
        "plt.figure(figsize=(15,15))\n",
        "show(img)"
      ],
      "execution_count": null,
      "outputs": []
    },
    {
      "cell_type": "markdown",
      "metadata": {
        "id": "9tRtYjH_LbQ0"
      },
      "source": [
        "## Part 2.1d: Engineering Choices (10 Points)\n",
        "\n",
        "Discuss the process you took to arrive at your final architecture. This should include:\n",
        "\n",
        "* Which empirically useful methods did you utilize\n",
        "* What didn't work, what worked and what mattered most\n",
        "* Are there any tricks you came across in the literature etc. which you suspect would be helpful here"
      ]
    },
    {
      "cell_type": "markdown",
      "metadata": {
        "id": "HnFqwePhXeZ4"
      },
      "source": [
        "**Your Answer**"
      ]
    },
    {
      "cell_type": "markdown",
      "metadata": {
        "id": "DC6ndLP5Z-P-"
      },
      "source": [
        "## Part 2.2: Understanding GAN Training (5 points)\n"
      ]
    },
    {
      "cell_type": "markdown",
      "metadata": {
        "id": "zz6oy7ixZ-P_"
      },
      "source": [
        "### Loss Curves\n",
        "**Your task:**\n",
        "\n",
        "\n",
        "Plot the losses curves for the discriminator $D$ and the generator $G$ as the training progresses and explain whether the produced curves are theoretically sensible and why this is (or not) the case (x-axis: epochs, y-axis: loss).\n",
        "\n",
        "Make sure that the version of the notebook you deliver includes these results."
      ]
    },
    {
      "cell_type": "code",
      "metadata": {
        "id": "kxrUDHfBZ-QA"
      },
      "source": [
        "# ANSWER FOR PART 2.2 IN THIS CELL*"
      ],
      "execution_count": null,
      "outputs": []
    },
    {
      "cell_type": "markdown",
      "metadata": {
        "id": "mZCUIHKkS0kF"
      },
      "source": [
        "### Discussion\n",
        "\n",
        "Do your loss curves look sensible? What would you expect to see and why?"
      ]
    },
    {
      "cell_type": "markdown",
      "metadata": {
        "id": "jYYOnd6YBN3k"
      },
      "source": [
        "**YOUR ANSWER**"
      ]
    },
    {
      "cell_type": "markdown",
      "metadata": {
        "id": "z_WLkdSNZ-QE"
      },
      "source": [
        "## Part 2.3: Understanding Mode Collapse (5 points) \n",
        "**Your task:** \n",
        "\n",
        "Based on the images created by your generator using the `fixed_noise` vector during training, provide a discussion on whether you noticed any mode collapse, what this behaviour may be attributed to, and explain what you did in order to cope with mode collapse."
      ]
    },
    {
      "cell_type": "code",
      "metadata": {
        "id": "HiPei-I0FCGM"
      },
      "source": [
        "# Any additional code"
      ],
      "execution_count": null,
      "outputs": []
    },
    {
      "cell_type": "markdown",
      "metadata": {
        "id": "DpZuxPYUFedE"
      },
      "source": [
        "### Discussion\n"
      ]
    },
    {
      "cell_type": "markdown",
      "metadata": {
        "id": "SynUx_QV7olI"
      },
      "source": [
        "**YOUR ANSWER**"
      ]
    },
    {
      "cell_type": "markdown",
      "metadata": {
        "id": "Cud7gZw2M-0U"
      },
      "source": [
        "\n",
        "\n",
        "# TA Test Cell\n",
        "TAs will run this cell to ensure that your results are reproducible, and that your models have been defined suitably. \n",
        "\n",
        "<font color=\"blue\"> <b> Please provide the input and output transformations required to make your VAE and GANs work. If your GAN generator requires more than just noise as input, also specify this below (there are two marked cells for you to inspect) </b></font>\n"
      ]
    },
    {
      "cell_type": "code",
      "metadata": {
        "id": "JesvipjEFbGx"
      },
      "source": [
        "# If you want to run these tests yourself, change directory:\n",
        "# !cd /content/drive/MyDrive/icl_dl_cw2/"
      ],
      "execution_count": null,
      "outputs": []
    },
    {
      "cell_type": "code",
      "metadata": {
        "id": "QLlCRIn6m9ZS"
      },
      "source": [
        "!pip install -q torch torchvision"
      ],
      "execution_count": null,
      "outputs": []
    },
    {
      "cell_type": "code",
      "metadata": {
        "id": "FUmBbya2nQh9",
        "colab": {
          "base_uri": "https://localhost:8080/"
        },
        "outputId": "2ae37d0c-d6ed-4eaf-c548-37c554bb4735"
      },
      "source": [
        "# Do not remove anything here\n",
        "import os\n",
        "import numpy as np\n",
        "import torch\n",
        "import torch.nn as nn\n",
        "from torch.utils.data import DataLoader, sampler\n",
        "from torchvision import datasets, transforms\n",
        "from torchvision.utils import save_image, make_grid\n",
        "import torch.nn.functional as F\n",
        "import matplotlib.pyplot as plt \n",
        "\n",
        "show = lambda img: plt.imshow(np.transpose(img.cpu().numpy(), (1,2,0)))\n",
        "\n",
        "device = torch.device(\"cuda\"  if torch.cuda.is_available() else \"cpu\")\n",
        "\n",
        "# Do not change this cell!\n",
        "torch.backends.cudnn.deterministic = True\n",
        "torch.manual_seed(0)"
      ],
      "execution_count": null,
      "outputs": [
        {
          "output_type": "execute_result",
          "data": {
            "text/plain": [
              "<torch._C.Generator at 0x7fb1d90f4bd0>"
            ]
          },
          "metadata": {
            "tags": []
          },
          "execution_count": 9
        }
      ]
    },
    {
      "cell_type": "code",
      "metadata": {
        "id": "IFfBZsnTzQIU"
      },
      "source": [
        "############# CHANGE THESE (COPY AND PASTE FROM YOUR OWN CODE) #############\n",
        "vae_transform = transforms.Compose([\n",
        "    transforms.ToTensor(),\n",
        "])\n",
        "\n",
        "def vae_denorm(x):\n",
        "    return x\n",
        "\n",
        "def gan_denorm(x):\n",
        "    return x\n",
        "\n",
        "gan_latent_size = \n",
        "\n",
        "# If your generator requires something other than noise as input, please specify\n",
        "# two cells down from here"
      ],
      "execution_count": null,
      "outputs": []
    },
    {
      "cell_type": "code",
      "metadata": {
        "id": "5t0CVMCFyxgU"
      },
      "source": [
        "# Load VAE Dataset\n",
        "test_dat = datasets.MNIST(\"./data/\", train=False, transform=vae_transform, \n",
        "                          download=True)\n",
        "vae_loader_test = DataLoader(test_dat, batch_size=32, shuffle=False)"
      ],
      "execution_count": null,
      "outputs": []
    },
    {
      "cell_type": "code",
      "metadata": {
        "id": "HTNsHqK-mh6U"
      },
      "source": [
        "############# MODIFY IF NEEDED #############\n",
        "vae_input, _ = next(iter(vae_loader_test))\n",
        "\n",
        "# If your generator is conditional, then please modify this input suitably\n",
        "input_noise = torch.randn(100, gan_latent_size, 1, 1, device=device)\n",
        "gan_input = [input_noise] # In case you want to provide a tuple, we wrap ours"
      ],
      "execution_count": null,
      "outputs": []
    },
    {
      "cell_type": "code",
      "metadata": {
        "id": "EIg06rOqo3XA"
      },
      "source": [
        "# VAE Tests\n",
        "# TAs will change these paths as you will have provided the model files manually\n",
        "\"\"\"To TAs, you should have been creating a folder with the student uid\n",
        "   And the .ipynb + models in the root. Then that path is './VAE_model.pth' etc.\n",
        "\"\"\"\n",
        "vae = model_G = torch.jit.load('./CW_VAE/VAE_model.pth')\n",
        "vae.eval()\n",
        "\n",
        "# Check if VAE is convolutional\n",
        "\n",
        "for module in vae.children():\n",
        "    for layer in module.children():\n",
        "        if \"Conv2d\" in layer.original_name:\n",
        "            print(\"Used Convs\")\n",
        "            break\n",
        "\n",
        "vae_in = make_grid(denorm(vae_input), nrow=8, padding=2, normalize=False,\n",
        "                range=None, scale_each=False, pad_value=0)\n",
        "plt.figure()\n",
        "plt.axis('off')\n",
        "show(vae_in)\n",
        "\n",
        "vae_test = vae(vae_input.to(device))[0].detach()\n",
        "vae_reco = make_grid(denorm(vae_test), nrow=8, padding=2, normalize=False,\n",
        "                range=None, scale_each=False, pad_value=0)\n",
        "plt.figure()\n",
        "plt.axis('off')\n",
        "show(vae_reco)"
      ],
      "execution_count": null,
      "outputs": []
    },
    {
      "cell_type": "code",
      "metadata": {
        "id": "HoJLGFZSo7ON"
      },
      "source": [
        "# GAN Tests\n",
        "model_G = torch.jit.load('./CW_GAN/GAN_G_model.pth')\n",
        "model_D = torch.jit.load('./CW_GAN/GAN_D_model.pth')\n",
        "[model.eval() for model in (model_G, model_D)]  \n",
        "\n",
        "# Check that GAN doesn't have too many parameters\n",
        "num_param = sum(p.numel() for p in [*model_G.parameters(),*model_D.parameters()])\n",
        "\n",
        "print(f\"Number of Parameters is {num_param} which is\", \"ok\" if num_param<25E+6 else \"not ok\")\n",
        "\n",
        "# visualize the generated images\n",
        "generated = model_G(*gan_input).cpu()\n",
        "generated = make_grid(gan_denorm(generated)[:100].detach(), nrow=10, padding=2, normalize=False, \n",
        "                    range=None, scale_each=False, pad_value=0)\n",
        "plt.figure(figsize=(15,15))\n",
        "plt.axis('off')\n",
        "show(generated)"
      ],
      "execution_count": null,
      "outputs": []
    },
    {
      "cell_type": "code",
      "metadata": {
        "id": "x9H91RxRuQm1"
      },
      "source": [
        ""
      ],
      "execution_count": null,
      "outputs": []
    }
  ]
}